{
 "cells": [
  {
   "attachments": {},
   "cell_type": "markdown",
   "metadata": {},
   "source": [
    "# Extracting Image Information\n",
    "\n",
    "On again inspecting the page, we can see that images lie inside the img tag and the link of that image is inside the src attribute. See  the below image – \n",
    "\n",
    "\n",
    "\n",
    "![Alt text](extractimageinspectpage.png)\n",
    "\n",
    "\n",
    "Example: Python BeautifulSoup Extract Image"
   ]
  },
  {
   "cell_type": "code",
   "execution_count": 12,
   "metadata": {},
   "outputs": [
    {
     "name": "stdout",
     "output_type": "stream",
     "text": [
      "{'src': 'https://media.geeksforgeeks.org/gfg-gg-logo.svg', 'alt': 'geeksforgeeks'}\n",
      "{'src': 'https://media.geeksforgeeks.org/wp-content/cdn-uploads/20230305181456/Python4.png', 'alt': 'Python Tutorial'}\n",
      "{'src': 'https://media.geeksforgeeks.org/img-practice/banner/Python-Foundation-thumbnail.webp?v=19441', 'alt': 'course-img'}\n",
      "{'src': 'https://media.geeksforgeeks.org/img-practice/Group7622-1669294650.svg', 'alt': ''}\n",
      "{'src': 'https://media.geeksforgeeks.org/img-practice/Levels-1669283463.svg', 'alt': ''}\n",
      "{'src': 'https://media.geeksforgeeks.org/img-practice/banner/Data-Structures-With-Python-thumbnail.webp?v=19441', 'alt': 'course-img'}\n",
      "{'src': 'https://media.geeksforgeeks.org/img-practice/Group7622-1669294650.svg', 'alt': ''}\n",
      "{'src': 'https://media.geeksforgeeks.org/img-practice/Levels-1669283463.svg', 'alt': ''}\n",
      "{'src': 'https://media.geeksforgeeks.org/img-practice/banner/py-dev-django-thumbnail.webp?v=19441', 'alt': 'course-img'}\n",
      "{'src': 'https://media.geeksforgeeks.org/img-practice/Group7622-1669294650.svg', 'alt': ''}\n",
      "{'src': 'https://media.geeksforgeeks.org/img-practice/Levels-1669283463.svg', 'alt': ''}\n",
      "{'src': 'https://media.geeksforgeeks.org/img-practice/banner/dsa-self-paced-thumbnail.webp?v=19441', 'alt': 'course-img'}\n",
      "{'src': 'https://media.geeksforgeeks.org/img-practice/Group7622-1669294650.svg', 'alt': ''}\n",
      "{'src': 'https://media.geeksforgeeks.org/img-practice/Levels-1669283463.svg', 'alt': ''}\n",
      "{'src': 'https://media.geeksforgeeks.org/img-practice/banner/dpa-self-paced-thumbnail.webp?v=19441', 'alt': 'course-img'}\n",
      "{'src': 'https://media.geeksforgeeks.org/img-practice/Group7622-1669294650.svg', 'alt': ''}\n",
      "{'src': 'https://media.geeksforgeeks.org/img-practice/Levels-1669283463.svg', 'alt': ''}\n",
      "{'src': '', 'alt': 'Lightbox'}\n"
     ]
    }
   ],
   "source": [
    "import requests\n",
    "from bs4 import BeautifulSoup\n",
    "\n",
    "\n",
    "# Making a GET request\n",
    "r = requests.get('https://www.geeksforgeeks.org/python-programming-language/')\n",
    "\n",
    "# Parsing the HTML\n",
    "soup = BeautifulSoup(r.content, 'html.parser')\n",
    "\n",
    "images_list = []\n",
    "\n",
    "images = soup.select('img')\n",
    "for image in images:\n",
    "\tsrc = image.get('src')\n",
    "\talt = image.get('alt')\n",
    "\timages_list.append({\"src\": src, \"alt\": alt})\n",
    "\t\n",
    "for image in images_list:\n",
    "\tprint(image)"
   ]
  }
 ],
 "metadata": {
  "kernelspec": {
   "display_name": "base",
   "language": "python",
   "name": "python3"
  },
  "language_info": {
   "codemirror_mode": {
    "name": "ipython",
    "version": 3
   },
   "file_extension": ".py",
   "mimetype": "text/x-python",
   "name": "python",
   "nbconvert_exporter": "python",
   "pygments_lexer": "ipython3",
   "version": "3.9.12"
  },
  "orig_nbformat": 4
 },
 "nbformat": 4,
 "nbformat_minor": 2
}

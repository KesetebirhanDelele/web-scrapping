{
 "cells": [
  {
   "attachments": {},
   "cell_type": "markdown",
   "metadata": {},
   "source": [
    "# Saving Data to CSV\n",
    "First we will create a list of dictionaries with the key value pairs that we want to add in the CSV file. Then we will use the csv module to write the output in the CSV file. See the below example for better understanding.\n",
    "\n",
    "Python BeautifulSoup saving to CSV"
   ]
  },
  {
   "cell_type": "code",
   "execution_count": 4,
   "metadata": {},
   "outputs": [],
   "source": [
    "import requests\n",
    "from bs4 import BeautifulSoup as bs\n",
    "import csv\n",
    "\n",
    "URL = 'https://www.geeksforgeeks.org/page/10/'\n",
    "req = requests.get(URL)\n",
    "soup = bs(req.text, 'html.parser')\n",
    "\n",
    "titles = soup.find_all('div', attrs={'class', 'head'})\n",
    "titles_list = []\n",
    "\n",
    "count = 1\n",
    "for title in titles:\n",
    "\td = {}\n",
    "\td['Title Number'] = f'Title {count}'\n",
    "\td['Title Name'] = title.text\n",
    "\tcount += 1\n",
    "\ttitles_list.append(d)\n",
    "\n",
    "filename = 'titles.csv'\n",
    "with open(filename, 'w', newline='') as f:\n",
    "\tw = csv.DictWriter(f,['Title Number','Title Name'])\n",
    "\tw.writeheader()\n",
    "\t\n",
    "\tw.writerows(titles_list)"
   ]
  }
 ],
 "metadata": {
  "kernelspec": {
   "display_name": "base",
   "language": "python",
   "name": "python3"
  },
  "language_info": {
   "codemirror_mode": {
    "name": "ipython",
    "version": 3
   },
   "file_extension": ".py",
   "mimetype": "text/x-python",
   "name": "python",
   "nbconvert_exporter": "python",
   "pygments_lexer": "ipython3",
   "version": "3.9.12"
  },
  "orig_nbformat": 4
 },
 "nbformat": 4,
 "nbformat_minor": 2
}

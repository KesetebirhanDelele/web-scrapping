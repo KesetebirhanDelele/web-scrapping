{
 "cells": [
  {
   "attachments": {},
   "cell_type": "markdown",
   "metadata": {},
   "source": [
    "# Looping through a list of different URLs\n",
    "The above technique is absolutely wonderful, but what if you need to scrape different pages, and you don’t know their page numbers? You’ll need to scrape those different URLs one by one and manually code a script for every such webpage.\n",
    "\n",
    "Instead, you could just make a list of these URLs and loop through them. By simply iterating the items in the list i.e. the URLs, we will be able to extract the titles of those pages without having to write code for each page. Here’s an example code of how you can do it."
   ]
  },
  {
   "cell_type": "code",
   "execution_count": 6,
   "metadata": {},
   "outputs": [
    {
     "name": "stdout",
     "output_type": "stream",
     "text": [
      "1How to become a Full Stack Developer? Complete Roadmap 2023\n",
      "2Top UI/UX Trends of 2023\n",
      "3Web Browser & it's Working\n",
      "4How to Answer “Tell Me About Yourself” in an Interview?\n",
      "5Top 5 Reasons Why Your Resume gets Rejected\n",
      "65 DSA Projects for your Resume\n",
      "7How to Check Navigation Drawer Menu Items in Android?\n",
      "8How to Add Images in RecyclerView using Firebase?\n",
      "9How to Get the Height of a Widget in Flutter?\n",
      "10Flutter – Advanced Drawer\n",
      "11How to Add Line ProgressBar with CardView using Buttons in Android?\n",
      "12Puzzle – Bank Cashier Mistake\n",
      "13Puzzle – Secret Word\n",
      "14Count number of Subsequences in Array in which X and Y are min and max elements\n",
      "15Describe the Work of a Farmer with 1 Hectare of Land\n",
      "16How to become a Full Stack Developer? Complete Roadmap 2023\n",
      "17Top UI/UX Trends of 2023\n",
      "18Web Browser & it's Working\n",
      "19How to Answer “Tell Me About Yourself” in an Interview?\n",
      "20Top 5 Reasons Why Your Resume gets Rejected\n",
      "215 DSA Projects for your Resume\n",
      "22Visualising the Nation- CBSE Class 10 History\n",
      "23What were the subjects on which books were written in the past?\n",
      "24Megaliths\n",
      "25How numbers are stored in JavaScript ?\n",
      "26Dual Government of Robert Clive\n",
      "27Introduction to Degenerate Binary Tree\n",
      "28How to change href attribute of a hyperlink using jQuery ?\n",
      "29Application of Remote Sensing\n",
      "30TCP with Buffering Capability and Sequencing Information\n",
      "31How to become a Full Stack Developer? Complete Roadmap 2023\n",
      "32Top UI/UX Trends of 2023\n",
      "33Web Browser & it's Working\n",
      "34How to Answer “Tell Me About Yourself” in an Interview?\n",
      "35Top 5 Reasons Why Your Resume gets Rejected\n",
      "365 DSA Projects for your Resume\n",
      "37Square Meter (Meter Squared)\n",
      "38Photocell and Probability Interpretation to Matter Waves\n",
      "39Preparation of Alcohols\n",
      "40Structural Representations of Organic Compounds\n",
      "41Rectangular Matrix\n",
      "42Hermitian Matrix\n",
      "43Jira vs ServiceNow\n",
      "44Row Matrix\n",
      "45Similar Matrix\n",
      "46How to become a Full Stack Developer? Complete Roadmap 2023\n",
      "47Top UI/UX Trends of 2023\n",
      "48Web Browser & it's Working\n",
      "49How to Answer “Tell Me About Yourself” in an Interview?\n",
      "50Top 5 Reasons Why Your Resume gets Rejected\n",
      "515 DSA Projects for your Resume\n",
      "52PHP mb_ereg_search_init() Function\n",
      "53Order of Matrix\n",
      "54Unitary Matrix\n",
      "55Maxwell–Boltzmann Distribution\n",
      "56AM GM Inequality\n",
      "57Nilpotent Matrix\n",
      "58Node.js crypto.secureHeapUsed() Method\n",
      "59Acre (Unit of Measurement)\n",
      "60Column Matrix\n"
     ]
    }
   ],
   "source": [
    "import requests\n",
    "from bs4 import BeautifulSoup as bs\n",
    "\n",
    "URL = ['https://www.geeksforgeeks.org/page/7/','https://www.geeksforgeeks.org/page/8/','https://www.geeksforgeeks.org/page/9/','https://www.geeksforgeeks.org/page/10/']\n",
    "\n",
    "for url in range(0,4):\n",
    "\treq = requests.get(URL[url])\n",
    "\tsoup = bs(req.text, 'html.parser')\n",
    "\n",
    "\ttitles = soup.find_all('div',attrs={'class','head'})\n",
    "\tfor i in range(4, 19):\n",
    "\t\tif url+1 > 1:\n",
    "\t\t\tprint(f\"{(i - 3) + url * 15}\" + titles[i].text)\n",
    "\t\telse:\n",
    "\t\t\tprint(f\"{i - 3}\" + titles[i].text)"
   ]
  }
 ],
 "metadata": {
  "kernelspec": {
   "display_name": "base",
   "language": "python",
   "name": "python3"
  },
  "language_info": {
   "codemirror_mode": {
    "name": "ipython",
    "version": 3
   },
   "file_extension": ".py",
   "mimetype": "text/x-python",
   "name": "python",
   "nbconvert_exporter": "python",
   "pygments_lexer": "ipython3",
   "version": "3.9.12"
  },
  "orig_nbformat": 4
 },
 "nbformat": 4,
 "nbformat_minor": 2
}
